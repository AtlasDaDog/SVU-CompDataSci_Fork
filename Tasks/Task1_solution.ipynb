{
 "cells": [
  {
   "cell_type": "markdown",
   "id": "d2fccc10-7a6d-4730-a89e-7b11edaa746b",
   "metadata": {},
   "source": [
    "# Task 1: IPython and Jupyter Install\n",
    "---\n",
    "*By Jared McBride* (01-15-2025, Buena Vista)"
   ]
  },
  {
   "cell_type": "markdown",
   "id": "fff59137-c315-4cd8-a403-310c4d77f817",
   "metadata": {},
   "source": [
    "Here is a list of useful formulas\n",
    "1. The Pythagorean Thoerem: $a^2 + b^2 = c^2$\n",
    "1. The Quadratic formula: $x = \\frac{-b\\pm \\sqrt{b^2 - 4ac}}{2a}$\n",
    "3. The circumfrence of a cirlce (two forms):\n",
    "   - $C = 2\\pi r$\n",
    "   - $C = \\pi d$"
   ]
  },
  {
   "cell_type": "markdown",
   "id": "562330cb-d586-4fff-baee-fd9d08d2b924",
   "metadata": {},
   "source": [
    "## Jupyter Key bindings\n",
    "\n",
    "Edit mode is when you are viewing the code in a selected cell and editing it. Command mode is when you have a cell selected and can do different things to said cell using various commands, like changing it from a code cell to a markdown cell, etc. You can toggle between them by clicking on the left whitespace beside the cell for command mode or inside the cell for edit mode. I've also been using the escape key when in edit mode to switch to command mode.\n",
    "\n",
    "See list of some commands\n",
    "\n",
    "- **dd**: deletes the currently selected cell\n",
    "- **a**: inserts new cell above\n",
    "- **b**: inserts cell below\n",
    "- **shift + enter**: runs cell and moves on to below cell\n",
    "- **cmd + enter**: runs cell and stays\n",
    "- **alt + enter**: runs cell as well as moving to newly inserted cell below\n",
    "\n",
    "\n",
    "\n",
    "\n",
    "***To merge cells***:\n",
    "I've been doing it in command mode. Select desired cells by holding shift and using the up or down arrows, then shift+M\n",
    "\n",
    "***To split cells at the cursor***:\n",
    "ctrl+shift+'-' (minus sign)\n",
    "\n",
    "***To give cell line numbers***:\n",
    "Hit shift+L while in command mode\n",
    "\n",
    "_(Solution by Jocelyn Stewart)_"
   ]
  },
  {
   "cell_type": "code",
   "execution_count": 17,
   "id": "470f9a91-98a2-461b-bfc5-f1e93fbb1a2d",
   "metadata": {},
   "outputs": [],
   "source": [
    "def sum1(n):\n",
    "    s = 0\n",
    "    for i in range(0,n):\n",
    "        s = s+i+1\n",
    "    return s"
   ]
  },
  {
   "cell_type": "code",
   "execution_count": 19,
   "id": "09fb00dd-27d3-4641-a752-0306e5e7bd17",
   "metadata": {},
   "outputs": [
    {
     "data": {
      "text/plain": [
       "6"
      ]
     },
     "execution_count": 19,
     "metadata": {},
     "output_type": "execute_result"
    }
   ],
   "source": [
    "sum1(3)"
   ]
  },
  {
   "cell_type": "code",
   "execution_count": 20,
   "id": "ee82e814-9faa-4700-8c1b-be22dbfeb5cd",
   "metadata": {},
   "outputs": [],
   "source": [
    "def sum2(n):\n",
    "    return n*(n+1) // 2"
   ]
  },
  {
   "cell_type": "code",
   "execution_count": 21,
   "id": "11d2ad60-d319-43af-873c-1543ec06d538",
   "metadata": {},
   "outputs": [
    {
     "data": {
      "text/plain": [
       "6"
      ]
     },
     "execution_count": 21,
     "metadata": {},
     "output_type": "execute_result"
    }
   ],
   "source": [
    "sum2(3)"
   ]
  },
  {
   "cell_type": "code",
   "execution_count": 24,
   "id": "37f272ca-e4f0-4dca-b48b-0e3bf2a25a92",
   "metadata": {},
   "outputs": [
    {
     "data": {
      "text/plain": [
       "0.0"
      ]
     },
     "execution_count": 24,
     "metadata": {},
     "output_type": "execute_result"
    }
   ],
   "source": [
    "N = 1000\n",
    "mse = 1/N * sum( [(sum1(n) - sum2(n))**2 for n in range(1,N+1)] )\n",
    "mse"
   ]
  }
 ],
 "metadata": {
  "kernelspec": {
   "display_name": "venv",
   "language": "python",
   "name": "venv"
  },
  "language_info": {
   "codemirror_mode": {
    "name": "ipython",
    "version": 3
   },
   "file_extension": ".py",
   "mimetype": "text/x-python",
   "name": "python",
   "nbconvert_exporter": "python",
   "pygments_lexer": "ipython3",
   "version": "3.11.5"
  }
 },
 "nbformat": 4,
 "nbformat_minor": 5
}
